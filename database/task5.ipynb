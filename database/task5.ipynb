{
 "cells": [
  {
   "cell_type": "markdown",
   "id": "58410302",
   "metadata": {},
   "source": [
    "Task 5"
   ]
  },
  {
   "cell_type": "code",
   "execution_count": null,
   "id": "d518c738",
   "metadata": {},
   "outputs": [],
   "source": [
    "from db_manager import Database\n",
    "\n",
    "# Initialize database\n",
    "db = Database()"
   ]
  }
 ],
 "metadata": {
  "kernelspec": {
   "display_name": ".venv",
   "language": "python",
   "name": "python3"
  },
  "language_info": {
   "name": "python",
   "version": "3.12.6"
  }
 },
 "nbformat": 4,
 "nbformat_minor": 5
}
