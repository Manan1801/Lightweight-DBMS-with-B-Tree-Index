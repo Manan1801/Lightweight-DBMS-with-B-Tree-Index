{
 "cells": [
  {
   "cell_type": "markdown",
   "id": "58410302",
   "metadata": {},
   "source": [
    "Task 5"
   ]
  },
  {
   "cell_type": "code",
   "execution_count": 1,
   "id": "d518c738",
   "metadata": {},
   "outputs": [],
   "source": [
    "from db_manager import Database\n",
    "\n",
    "# Initialize database\n",
    "db = Database()"
   ]
  },
  {
   "cell_type": "code",
   "execution_count": 8,
   "id": "b3efecaa",
   "metadata": {},
   "outputs": [
    {
     "name": "stdout",
     "output_type": "stream",
     "text": [
      "ℹ️ Database 'library_db' already exists.\n"
     ]
    }
   ],
   "source": [
    "import os\n",
    "import json\n",
    "\n",
    "# Path setup\n",
    "db_dir = './databases'\n",
    "db_path = os.path.join(db_dir, 'library_db.json')\n",
    "\n",
    "# Create the databases directory if it doesn't exist\n",
    "os.makedirs(db_dir, exist_ok=True)\n",
    "\n",
    "# Create the database file if it doesn't exist\n",
    "if not os.path.exists(db_path):\n",
    "    with open(db_path, 'w') as f:\n",
    "        json.dump({\"tables\": {}}, f)\n",
    "    print(\"✅ Database 'library_db' created.\")\n",
    "else:\n",
    "    print(\"ℹ️ Database 'library_db' already exists.\")\n"
   ]
  },
  {
   "cell_type": "code",
   "execution_count": 13,
   "id": "b2b4fe9a",
   "metadata": {},
   "outputs": [
    {
     "name": "stdout",
     "output_type": "stream",
     "text": [
      "✅ Table 'library_borrowed_books' created successfully inside 'library_db'.\n"
     ]
    }
   ],
   "source": [
    "from db_manager import DatabaseManager\n",
    "\n",
    "# Initialize DBMS\n",
    "db = DatabaseManager()\n",
    "\n",
    "# Define schema and primary key\n",
    "schema = ['id', 'book_borrowed', 'book_title', 'book_author', 'book_publisher', 'book_year']\n",
    "primary_key = 'id'\n",
    "\n",
    "# Create table (it will auto-create the database too)\n",
    "db.create_table('library_db', 'library_borrowed_books', schema, primary_key)\n",
    "\n",
    "print(\"✅ Table 'library_borrowed_books' created successfully inside 'library_db'.\")\n",
    "\n",
    "\n"
   ]
  },
  {
   "cell_type": "code",
   "execution_count": 14,
   "id": "3385f0c9",
   "metadata": {},
   "outputs": [
    {
     "name": "stdout",
     "output_type": "stream",
     "text": [
      "✅ Record inserted successfully.\n"
     ]
    }
   ],
   "source": [
    "record = {\n",
    "    'id': 101,\n",
    "    'book_borrowed': 'Yes',\n",
    "    'book_title': 'Clean Code',\n",
    "    'book_author': 'Robert C. Martin',\n",
    "    'book_publisher': 'Prentice Hall',\n",
    "    'book_year': '2008'\n",
    "}\n",
    "\n",
    "db.insert_into('library_db', 'library_borrowed_books', record)\n",
    "print(\"✅ Record inserted successfully.\")\n"
   ]
  },
  {
   "cell_type": "code",
   "execution_count": 15,
   "id": "8babbb63",
   "metadata": {},
   "outputs": [
    {
     "name": "stdout",
     "output_type": "stream",
     "text": [
      "📚 All Records:\n",
      "{'id': 101, 'book_borrowed': 'Yes', 'book_title': 'Clean Code', 'book_author': 'Robert C. Martin', 'book_publisher': 'Prentice Hall', 'book_year': '2008'}\n"
     ]
    }
   ],
   "source": [
    "all_records = db.select_from('library_db', 'library_borrowed_books')\n",
    "print(\"📚 All Records:\")\n",
    "for rec in all_records:\n",
    "    print(rec)\n"
   ]
  },
  {
   "cell_type": "code",
   "execution_count": 16,
   "id": "089dd526",
   "metadata": {},
   "outputs": [
    {
     "name": "stdout",
     "output_type": "stream",
     "text": [
      "💾 Database saved to disk.\n"
     ]
    }
   ],
   "source": [
    "db.save_to_disk('library_db')\n",
    "print(\"💾 Database saved to disk.\")\n"
   ]
  },
  {
   "cell_type": "code",
   "execution_count": 17,
   "id": "dd46cc07",
   "metadata": {},
   "outputs": [
    {
     "name": "stdout",
     "output_type": "stream",
     "text": [
      "📂 Database loaded from disk.\n"
     ]
    }
   ],
   "source": [
    "db.load_from_disk('library_db')\n",
    "print(\"📂 Database loaded from disk.\")\n"
   ]
  }
 ],
 "metadata": {
  "kernelspec": {
   "display_name": ".venv",
   "language": "python",
   "name": "python3"
  },
  "language_info": {
   "codemirror_mode": {
    "name": "ipython",
    "version": 3
   },
   "file_extension": ".py",
   "mimetype": "text/x-python",
   "name": "python",
   "nbconvert_exporter": "python",
   "pygments_lexer": "ipython3",
   "version": "3.12.6"
  }
 },
 "nbformat": 4,
 "nbformat_minor": 5
}
